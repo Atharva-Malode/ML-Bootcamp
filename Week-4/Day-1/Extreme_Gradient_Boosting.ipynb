{
  "cells": [
    {
      "cell_type": "code",
      "execution_count": null,
      "metadata": {},
      "outputs": [],
      "source": [
        "!git clone https://github.com/Atharva-Malode/ML-Bootcamp.git"
      ]
    },
    {
      "cell_type": "code",
      "execution_count": null,
      "metadata": {
        "id": "mpvfkokQiTeD"
      },
      "outputs": [],
      "source": [
        "!pip install pandas numpy seaborn matplotlib pycaret"
      ]
    },
    {
      "cell_type": "code",
      "execution_count": 5,
      "metadata": {
        "id": "WmyQq_5ui8TS"
      },
      "outputs": [],
      "source": [
        "#IMPORTING ALL NECESSARY LIBRARIES & PACKAGES\n",
        "import pandas as pd\n",
        "import numpy as np\n",
        "import seaborn as sns\n",
        "import matplotlib.pyplot as plt\n",
        "import pickle\n",
        "from pycaret.classification import *"
      ]
    },
    {
      "cell_type": "code",
      "execution_count": null,
      "metadata": {},
      "outputs": [],
      "source": [
        "df = pd.read_csv(\"/content/ML-Bootcamp/Week-4/Day-1/Dataset/dataset_full.csv\")\n",
        "df"
      ]
    }
  ],
  "metadata": {
    "colab": {
      "provenance": []
    },
    "kernelspec": {
      "display_name": "Python 3",
      "name": "python3"
    },
    "language_info": {
      "name": "python"
    }
  },
  "nbformat": 4,
  "nbformat_minor": 0
}
