{
  "nbformat": 4,
  "nbformat_minor": 0,
  "metadata": {
    "colab": {
      "provenance": []
    },
    "kernelspec": {
      "name": "python3",
      "display_name": "Python 3"
    },
    "language_info": {
      "name": "python"
    }
  },
  "cells": [
    {
      "cell_type": "code",
      "execution_count": 2,
      "metadata": {
        "colab": {
          "base_uri": "https://localhost:8080/"
        },
        "id": "mE9bBz8Ks9BJ",
        "outputId": "75eb44af-9ef6-4ce7-a929-019eff92bfaa"
      },
      "outputs": [
        {
          "output_type": "stream",
          "name": "stdout",
          "text": [
            "Welcome to the bootcamp\n"
          ]
        }
      ],
      "source": [
        "print(\"Welcome to the bootcamp\")"
      ]
    },
    {
      "cell_type": "code",
      "source": [
        "print(\"Day 1 bootcamp\")\n"
      ],
      "metadata": {
        "id": "czqQ4EPVtFP8",
        "outputId": "3536c850-d7ce-4ea2-e2c3-7ecc2a251437",
        "colab": {
          "base_uri": "https://localhost:8080/"
        }
      },
      "execution_count": 1,
      "outputs": [
        {
          "output_type": "stream",
          "name": "stdout",
          "text": [
            "Day 1 bootcamp\n"
          ]
        }
      ]
    },
    {
      "cell_type": "code",
      "source": [],
      "metadata": {
        "id": "h7s5KIOyz3_l"
      },
      "execution_count": null,
      "outputs": []
    }
  ]
}